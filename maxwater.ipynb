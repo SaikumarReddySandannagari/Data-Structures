{
 "cells": [
  {
   "cell_type": "code",
   "execution_count": 1,
   "metadata": {},
   "outputs": [
    {
     "name": "stdout",
     "output_type": "stream",
     "text": [
      "42\n"
     ]
    }
   ],
   "source": [
    "def maxArea(height):\n",
    "    i=0\n",
    "    j=len(height)-1\n",
    "    max1=0\n",
    "    if len(height)==0 or len(height)==1:\n",
    "        return 0\n",
    "    while(i<j):\n",
    "        if max1<=min(height[i],height[j])*(j-i):\n",
    "            max1=min(height[i],height[j])*(j-i)\n",
    "        if height[i]<height[j]:\n",
    "            i+=1\n",
    "        else:\n",
    "            j-=1\n",
    "    return max1\n",
    "print(maxArea([1,7,5,4,4,3,7,2,6])) "
   ]
  },
  {
   "cell_type": "code",
   "execution_count": null,
   "metadata": {},
   "outputs": [],
   "source": []
  }
 ],
 "metadata": {
  "kernelspec": {
   "display_name": "Python 3",
   "language": "python",
   "name": "python3"
  },
  "language_info": {
   "codemirror_mode": {
    "name": "ipython",
    "version": 3
   },
   "file_extension": ".py",
   "mimetype": "text/x-python",
   "name": "python",
   "nbconvert_exporter": "python",
   "pygments_lexer": "ipython3",
   "version": "3.7.3"
  }
 },
 "nbformat": 4,
 "nbformat_minor": 2
}
